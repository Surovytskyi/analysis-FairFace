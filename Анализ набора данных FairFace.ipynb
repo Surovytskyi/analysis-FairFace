{
 "cells": [
  {
   "cell_type": "code",
   "execution_count": 228,
   "id": "0adcd1ee",
   "metadata": {},
   "outputs": [],
   "source": [
    "import torch\n",
    "import numpy as np\n",
    "import pandas as pd\n",
    "import seaborn as sns\n",
    "import matplotlib.pyplot as plt"
   ]
  },
  {
   "cell_type": "code",
   "execution_count": 229,
   "id": "2351c451",
   "metadata": {},
   "outputs": [],
   "source": [
    "# Загрузим датасэт FairFace\n",
    "df = pd.read_csv('/Users/dimasyrovitsky/Downloads/fairface_label_train.csv')"
   ]
  },
  {
   "cell_type": "code",
   "execution_count": 230,
   "id": "d03cf58e",
   "metadata": {},
   "outputs": [
    {
     "data": {
      "text/html": [
       "<div>\n",
       "<style scoped>\n",
       "    .dataframe tbody tr th:only-of-type {\n",
       "        vertical-align: middle;\n",
       "    }\n",
       "\n",
       "    .dataframe tbody tr th {\n",
       "        vertical-align: top;\n",
       "    }\n",
       "\n",
       "    .dataframe thead th {\n",
       "        text-align: right;\n",
       "    }\n",
       "</style>\n",
       "<table border=\"1\" class=\"dataframe\">\n",
       "  <thead>\n",
       "    <tr style=\"text-align: right;\">\n",
       "      <th></th>\n",
       "      <th>file</th>\n",
       "      <th>age</th>\n",
       "      <th>gender</th>\n",
       "      <th>race</th>\n",
       "      <th>service_test</th>\n",
       "    </tr>\n",
       "  </thead>\n",
       "  <tbody>\n",
       "    <tr>\n",
       "      <th>0</th>\n",
       "      <td>train/1.jpg</td>\n",
       "      <td>50-59</td>\n",
       "      <td>Male</td>\n",
       "      <td>East Asian</td>\n",
       "      <td>True</td>\n",
       "    </tr>\n",
       "    <tr>\n",
       "      <th>1</th>\n",
       "      <td>train/2.jpg</td>\n",
       "      <td>30-39</td>\n",
       "      <td>Female</td>\n",
       "      <td>Indian</td>\n",
       "      <td>False</td>\n",
       "    </tr>\n",
       "    <tr>\n",
       "      <th>2</th>\n",
       "      <td>train/3.jpg</td>\n",
       "      <td>3-9</td>\n",
       "      <td>Female</td>\n",
       "      <td>Black</td>\n",
       "      <td>False</td>\n",
       "    </tr>\n",
       "    <tr>\n",
       "      <th>3</th>\n",
       "      <td>train/4.jpg</td>\n",
       "      <td>20-29</td>\n",
       "      <td>Female</td>\n",
       "      <td>Indian</td>\n",
       "      <td>True</td>\n",
       "    </tr>\n",
       "    <tr>\n",
       "      <th>4</th>\n",
       "      <td>train/5.jpg</td>\n",
       "      <td>20-29</td>\n",
       "      <td>Female</td>\n",
       "      <td>Indian</td>\n",
       "      <td>True</td>\n",
       "    </tr>\n",
       "    <tr>\n",
       "      <th>...</th>\n",
       "      <td>...</td>\n",
       "      <td>...</td>\n",
       "      <td>...</td>\n",
       "      <td>...</td>\n",
       "      <td>...</td>\n",
       "    </tr>\n",
       "    <tr>\n",
       "      <th>86739</th>\n",
       "      <td>train/86740.jpg</td>\n",
       "      <td>20-29</td>\n",
       "      <td>Male</td>\n",
       "      <td>Indian</td>\n",
       "      <td>True</td>\n",
       "    </tr>\n",
       "    <tr>\n",
       "      <th>86740</th>\n",
       "      <td>train/86741.jpg</td>\n",
       "      <td>10-19</td>\n",
       "      <td>Male</td>\n",
       "      <td>Indian</td>\n",
       "      <td>True</td>\n",
       "    </tr>\n",
       "    <tr>\n",
       "      <th>86741</th>\n",
       "      <td>train/86742.jpg</td>\n",
       "      <td>more than 70</td>\n",
       "      <td>Female</td>\n",
       "      <td>Indian</td>\n",
       "      <td>True</td>\n",
       "    </tr>\n",
       "    <tr>\n",
       "      <th>86742</th>\n",
       "      <td>train/86743.jpg</td>\n",
       "      <td>10-19</td>\n",
       "      <td>Female</td>\n",
       "      <td>Black</td>\n",
       "      <td>True</td>\n",
       "    </tr>\n",
       "    <tr>\n",
       "      <th>86743</th>\n",
       "      <td>train/86744.jpg</td>\n",
       "      <td>40-49</td>\n",
       "      <td>Male</td>\n",
       "      <td>White</td>\n",
       "      <td>False</td>\n",
       "    </tr>\n",
       "  </tbody>\n",
       "</table>\n",
       "<p>86744 rows × 5 columns</p>\n",
       "</div>"
      ],
      "text/plain": [
       "                  file           age  gender        race  service_test\n",
       "0          train/1.jpg         50-59    Male  East Asian          True\n",
       "1          train/2.jpg         30-39  Female      Indian         False\n",
       "2          train/3.jpg           3-9  Female       Black         False\n",
       "3          train/4.jpg         20-29  Female      Indian          True\n",
       "4          train/5.jpg         20-29  Female      Indian          True\n",
       "...                ...           ...     ...         ...           ...\n",
       "86739  train/86740.jpg         20-29    Male      Indian          True\n",
       "86740  train/86741.jpg         10-19    Male      Indian          True\n",
       "86741  train/86742.jpg  more than 70  Female      Indian          True\n",
       "86742  train/86743.jpg         10-19  Female       Black          True\n",
       "86743  train/86744.jpg         40-49    Male       White         False\n",
       "\n",
       "[86744 rows x 5 columns]"
      ]
     },
     "execution_count": 230,
     "metadata": {},
     "output_type": "execute_result"
    }
   ],
   "source": [
    "# Взглянем на датасэт FairFace\n",
    "df"
   ]
  },
  {
   "cell_type": "code",
   "execution_count": 231,
   "id": "a96433a6",
   "metadata": {},
   "outputs": [
    {
     "data": {
      "text/plain": [
       "file            0\n",
       "age             0\n",
       "gender          0\n",
       "race            0\n",
       "service_test    0\n",
       "dtype: int64"
      ]
     },
     "execution_count": 231,
     "metadata": {},
     "output_type": "execute_result"
    }
   ],
   "source": [
    "# Проверяем пропущеные значения в колонках\n",
    "df.isnull().sum()"
   ]
  },
  {
   "cell_type": "code",
   "execution_count": 232,
   "id": "fc49f6c0",
   "metadata": {},
   "outputs": [],
   "source": [
    "# Поменяем некоторые значения в колоне 'age' для удобства фильтрации\n",
    "df.loc[df['age'] == '3-9', 'age'] = '03-9'\n",
    "df.loc[df['age'] == 'more than 70', 'age'] = '70+'"
   ]
  },
  {
   "cell_type": "code",
   "execution_count": 233,
   "id": "9325a110",
   "metadata": {},
   "outputs": [],
   "source": [
    "# Осортируем датасэт по значениям колоны 'age'\n",
    "df_sort_age = df.sort_values('age')"
   ]
  },
  {
   "cell_type": "code",
   "execution_count": 234,
   "id": "8a1326b7",
   "metadata": {},
   "outputs": [
    {
     "data": {
      "text/plain": [
       "<AxesSubplot:xlabel='age', ylabel='Count'>"
      ]
     },
     "execution_count": 234,
     "metadata": {},
     "output_type": "execute_result"
    },
    {
     "data": {
      "image/png": "[encoded data removed]",
      "text/plain": [
       "<Figure size 432x288 with 1 Axes>"
      ]
     },
     "metadata": {
      "needs_background": "light"
     },
     "output_type": "display_data"
    }
   ],
   "source": [
    "# Взлянем на распределение датасэта по возрасту\n",
    "# На гистогамме видно что в датасэте доминируют выборки людей со средним возрастом\n",
    "sns.histplot(data=df_sort_age, x = 'age')"
   ]
  },
  {
   "cell_type": "code",
   "execution_count": 235,
   "id": "5e40a3a3",
   "metadata": {},
   "outputs": [
    {
     "data": {
      "text/html": [
       "<div>\n",
       "<style scoped>\n",
       "    .dataframe tbody tr th:only-of-type {\n",
       "        vertical-align: middle;\n",
       "    }\n",
       "\n",
       "    .dataframe tbody tr th {\n",
       "        vertical-align: top;\n",
       "    }\n",
       "\n",
       "    .dataframe thead th {\n",
       "        text-align: right;\n",
       "    }\n",
       "</style>\n",
       "<table border=\"1\" class=\"dataframe\">\n",
       "  <thead>\n",
       "    <tr style=\"text-align: right;\">\n",
       "      <th></th>\n",
       "      <th>gender</th>\n",
       "    </tr>\n",
       "    <tr>\n",
       "      <th>age</th>\n",
       "      <th></th>\n",
       "    </tr>\n",
       "  </thead>\n",
       "  <tbody>\n",
       "    <tr>\n",
       "      <th>0-2</th>\n",
       "      <td>1792</td>\n",
       "    </tr>\n",
       "    <tr>\n",
       "      <th>03-9</th>\n",
       "      <td>10408</td>\n",
       "    </tr>\n",
       "    <tr>\n",
       "      <th>10-19</th>\n",
       "      <td>9103</td>\n",
       "    </tr>\n",
       "    <tr>\n",
       "      <th>20-29</th>\n",
       "      <td>25598</td>\n",
       "    </tr>\n",
       "    <tr>\n",
       "      <th>30-39</th>\n",
       "      <td>19250</td>\n",
       "    </tr>\n",
       "    <tr>\n",
       "      <th>40-49</th>\n",
       "      <td>10744</td>\n",
       "    </tr>\n",
       "    <tr>\n",
       "      <th>50-59</th>\n",
       "      <td>6228</td>\n",
       "    </tr>\n",
       "    <tr>\n",
       "      <th>60-69</th>\n",
       "      <td>2779</td>\n",
       "    </tr>\n",
       "    <tr>\n",
       "      <th>70+</th>\n",
       "      <td>842</td>\n",
       "    </tr>\n",
       "  </tbody>\n",
       "</table>\n",
       "</div>"
      ],
      "text/plain": [
       "       gender\n",
       "age          \n",
       "0-2      1792\n",
       "03-9    10408\n",
       "10-19    9103\n",
       "20-29   25598\n",
       "30-39   19250\n",
       "40-49   10744\n",
       "50-59    6228\n",
       "60-69    2779\n",
       "70+       842"
      ]
     },
     "execution_count": 235,
     "metadata": {},
     "output_type": "execute_result"
    }
   ],
   "source": [
    "# Выведим возрасные группы и количетво выборок в каждой\n",
    "df_sort_age.groupby('age').aggregate({'gender': 'count'})"
   ]
  },
  {
   "cell_type": "code",
   "execution_count": 236,
   "id": "aac17b79",
   "metadata": {},
   "outputs": [],
   "source": [
    "# Распределение по возрасту и полу\n",
    "df_distribution_age_sex = df_sort_age.pivot_table(index='age',\n",
    "                       columns='gender',\n",
    "                       values='service_test',\n",
    "                       aggfunc='count',\n",
    "                       fill_value=0).reset_index()"
   ]
  },
  {
   "cell_type": "code",
   "execution_count": 237,
   "id": "34a59206",
   "metadata": {},
   "outputs": [
    {
     "data": {
      "text/html": [
       "<div>\n",
       "<style scoped>\n",
       "    .dataframe tbody tr th:only-of-type {\n",
       "        vertical-align: middle;\n",
       "    }\n",
       "\n",
       "    .dataframe tbody tr th {\n",
       "        vertical-align: top;\n",
       "    }\n",
       "\n",
       "    .dataframe thead th {\n",
       "        text-align: right;\n",
       "    }\n",
       "</style>\n",
       "<table border=\"1\" class=\"dataframe\">\n",
       "  <thead>\n",
       "    <tr style=\"text-align: right;\">\n",
       "      <th>gender</th>\n",
       "      <th>age</th>\n",
       "      <th>Female</th>\n",
       "      <th>Male</th>\n",
       "    </tr>\n",
       "  </thead>\n",
       "  <tbody>\n",
       "    <tr>\n",
       "      <th>0</th>\n",
       "      <td>0-2</td>\n",
       "      <td>692</td>\n",
       "      <td>1100</td>\n",
       "    </tr>\n",
       "    <tr>\n",
       "      <th>1</th>\n",
       "      <td>03-9</td>\n",
       "      <td>4639</td>\n",
       "      <td>5769</td>\n",
       "    </tr>\n",
       "    <tr>\n",
       "      <th>2</th>\n",
       "      <td>10-19</td>\n",
       "      <td>4997</td>\n",
       "      <td>4106</td>\n",
       "    </tr>\n",
       "    <tr>\n",
       "      <th>3</th>\n",
       "      <td>20-29</td>\n",
       "      <td>14263</td>\n",
       "      <td>11335</td>\n",
       "    </tr>\n",
       "    <tr>\n",
       "      <th>4</th>\n",
       "      <td>30-39</td>\n",
       "      <td>8420</td>\n",
       "      <td>10830</td>\n",
       "    </tr>\n",
       "    <tr>\n",
       "      <th>5</th>\n",
       "      <td>40-49</td>\n",
       "      <td>4074</td>\n",
       "      <td>6670</td>\n",
       "    </tr>\n",
       "    <tr>\n",
       "      <th>6</th>\n",
       "      <td>50-59</td>\n",
       "      <td>2194</td>\n",
       "      <td>4034</td>\n",
       "    </tr>\n",
       "    <tr>\n",
       "      <th>7</th>\n",
       "      <td>60-69</td>\n",
       "      <td>1040</td>\n",
       "      <td>1739</td>\n",
       "    </tr>\n",
       "    <tr>\n",
       "      <th>8</th>\n",
       "      <td>70+</td>\n",
       "      <td>439</td>\n",
       "      <td>403</td>\n",
       "    </tr>\n",
       "  </tbody>\n",
       "</table>\n",
       "</div>"
      ],
      "text/plain": [
       "gender    age  Female   Male\n",
       "0         0-2     692   1100\n",
       "1        03-9    4639   5769\n",
       "2       10-19    4997   4106\n",
       "3       20-29   14263  11335\n",
       "4       30-39    8420  10830\n",
       "5       40-49    4074   6670\n",
       "6       50-59    2194   4034\n",
       "7       60-69    1040   1739\n",
       "8         70+     439    403"
      ]
     },
     "execution_count": 237,
     "metadata": {},
     "output_type": "execute_result"
    }
   ],
   "source": [
    "# Выводим распределение по возрасту и полу\n",
    "df_distribution_age_sex"
   ]
  },
  {
   "cell_type": "code",
   "execution_count": 238,
   "id": "edd45deb",
   "metadata": {},
   "outputs": [
    {
     "data": {
      "image/png": "[encoded data removed]",
      "text/plain": [
       "<Figure size 864x432 with 1 Axes>"
      ]
     },
     "metadata": {
      "needs_background": "light"
     },
     "output_type": "display_data"
    }
   ],
   "source": [
    "# Гистарамма распределения по возрасту и полу\n",
    "# На гистарамме видно что распредеоение в каждой возрасной группе по полу примерно сблансировано\n",
    "fig, ax = plt.subplots(figsize=(12,6))\n",
    "X_axis = np.arange(len(df_distribution_age_sex['age']))\n",
    "ax.bar(X_axis - 0.2, df_distribution_age_sex['Female'], 0.4, label = 'Female')\n",
    "ax.bar(X_axis + 0.2, df_distribution_age_sex['Male'], 0.4, label = 'Male')\n",
    "plt.xticks(X_axis, df_distribution_age_sex['age'])\n",
    "plt.xlabel(\"Age\")\n",
    "plt.ylabel(\"Samples\")\n",
    "plt.title(\"Age to Gender distribution\")\n",
    "ax.legend(fontsize = 14)\n",
    "plt.show()"
   ]
  },
  {
   "cell_type": "code",
   "execution_count": 239,
   "id": "7f9d31d3",
   "metadata": {},
   "outputs": [],
   "source": [
    "# Распределение по возрасту и расе\n",
    "df_distribution_age_race = df_sort_age.pivot_table(index='age',\n",
    "                       columns='race',\n",
    "                       values='service_test',\n",
    "                       aggfunc='count',\n",
    "                       fill_value=0).reset_index()"
   ]
  },
  {
   "cell_type": "code",
   "execution_count": 240,
   "id": "ffd52956",
   "metadata": {},
   "outputs": [
    {
     "data": {
      "text/html": [
       "<div>\n",
       "<style scoped>\n",
       "    .dataframe tbody tr th:only-of-type {\n",
       "        vertical-align: middle;\n",
       "    }\n",
       "\n",
       "    .dataframe tbody tr th {\n",
       "        vertical-align: top;\n",
       "    }\n",
       "\n",
       "    .dataframe thead th {\n",
       "        text-align: right;\n",
       "    }\n",
       "</style>\n",
       "<table border=\"1\" class=\"dataframe\">\n",
       "  <thead>\n",
       "    <tr style=\"text-align: right;\">\n",
       "      <th>race</th>\n",
       "      <th>age</th>\n",
       "      <th>Black</th>\n",
       "      <th>East Asian</th>\n",
       "      <th>Indian</th>\n",
       "      <th>Latino_Hispanic</th>\n",
       "      <th>Middle Eastern</th>\n",
       "      <th>Southeast Asian</th>\n",
       "      <th>White</th>\n",
       "    </tr>\n",
       "  </thead>\n",
       "  <tbody>\n",
       "    <tr>\n",
       "      <th>0</th>\n",
       "      <td>0-2</td>\n",
       "      <td>279</td>\n",
       "      <td>408</td>\n",
       "      <td>169</td>\n",
       "      <td>189</td>\n",
       "      <td>134</td>\n",
       "      <td>214</td>\n",
       "      <td>399</td>\n",
       "    </tr>\n",
       "    <tr>\n",
       "      <th>1</th>\n",
       "      <td>03-9</td>\n",
       "      <td>2072</td>\n",
       "      <td>1736</td>\n",
       "      <td>1530</td>\n",
       "      <td>1589</td>\n",
       "      <td>721</td>\n",
       "      <td>1523</td>\n",
       "      <td>1237</td>\n",
       "    </tr>\n",
       "    <tr>\n",
       "      <th>2</th>\n",
       "      <td>10-19</td>\n",
       "      <td>1518</td>\n",
       "      <td>1176</td>\n",
       "      <td>1529</td>\n",
       "      <td>1609</td>\n",
       "      <td>735</td>\n",
       "      <td>1388</td>\n",
       "      <td>1148</td>\n",
       "    </tr>\n",
       "    <tr>\n",
       "      <th>3</th>\n",
       "      <td>20-29</td>\n",
       "      <td>3171</td>\n",
       "      <td>4765</td>\n",
       "      <td>3077</td>\n",
       "      <td>3531</td>\n",
       "      <td>2323</td>\n",
       "      <td>3510</td>\n",
       "      <td>5221</td>\n",
       "    </tr>\n",
       "    <tr>\n",
       "      <th>4</th>\n",
       "      <td>30-39</td>\n",
       "      <td>2619</td>\n",
       "      <td>2382</td>\n",
       "      <td>2771</td>\n",
       "      <td>2932</td>\n",
       "      <td>2398</td>\n",
       "      <td>2009</td>\n",
       "      <td>4139</td>\n",
       "    </tr>\n",
       "    <tr>\n",
       "      <th>5</th>\n",
       "      <td>40-49</td>\n",
       "      <td>1459</td>\n",
       "      <td>939</td>\n",
       "      <td>1635</td>\n",
       "      <td>1957</td>\n",
       "      <td>1517</td>\n",
       "      <td>1058</td>\n",
       "      <td>2179</td>\n",
       "    </tr>\n",
       "    <tr>\n",
       "      <th>6</th>\n",
       "      <td>50-59</td>\n",
       "      <td>764</td>\n",
       "      <td>524</td>\n",
       "      <td>984</td>\n",
       "      <td>1124</td>\n",
       "      <td>837</td>\n",
       "      <td>616</td>\n",
       "      <td>1379</td>\n",
       "    </tr>\n",
       "    <tr>\n",
       "      <th>7</th>\n",
       "      <td>60-69</td>\n",
       "      <td>279</td>\n",
       "      <td>270</td>\n",
       "      <td>457</td>\n",
       "      <td>355</td>\n",
       "      <td>435</td>\n",
       "      <td>307</td>\n",
       "      <td>676</td>\n",
       "    </tr>\n",
       "    <tr>\n",
       "      <th>8</th>\n",
       "      <td>70+</td>\n",
       "      <td>72</td>\n",
       "      <td>87</td>\n",
       "      <td>167</td>\n",
       "      <td>81</td>\n",
       "      <td>116</td>\n",
       "      <td>170</td>\n",
       "      <td>149</td>\n",
       "    </tr>\n",
       "  </tbody>\n",
       "</table>\n",
       "</div>"
      ],
      "text/plain": [
       "race    age  Black  East Asian  Indian  Latino_Hispanic  Middle Eastern  \\\n",
       "0       0-2    279         408     169              189             134   \n",
       "1      03-9   2072        1736    1530             1589             721   \n",
       "2     10-19   1518        1176    1529             1609             735   \n",
       "3     20-29   3171        4765    3077             3531            2323   \n",
       "4     30-39   2619        2382    2771             2932            2398   \n",
       "5     40-49   1459         939    1635             1957            1517   \n",
       "6     50-59    764         524     984             1124             837   \n",
       "7     60-69    279         270     457              355             435   \n",
       "8       70+     72          87     167               81             116   \n",
       "\n",
       "race  Southeast Asian  White  \n",
       "0                 214    399  \n",
       "1                1523   1237  \n",
       "2                1388   1148  \n",
       "3                3510   5221  \n",
       "4                2009   4139  \n",
       "5                1058   2179  \n",
       "6                 616   1379  \n",
       "7                 307    676  \n",
       "8                 170    149  "
      ]
     },
     "execution_count": 240,
     "metadata": {},
     "output_type": "execute_result"
    }
   ],
   "source": [
    "# Выводим распределение по возрасту и расе\n",
    "df_distribution_age_race"
   ]
  },
  {
   "cell_type": "code",
   "execution_count": 241,
   "id": "fe40e8b1",
   "metadata": {},
   "outputs": [
    {
     "data": {
      "image/png": "[encoded data removed]",
      "text/plain": [
       "<Figure size 864x432 with 1 Axes>"
      ]
     },
     "metadata": {
      "needs_background": "light"
     },
     "output_type": "display_data"
    }
   ],
   "source": [
    "# График распределения по возрасту и расе\n",
    "# На графике видно что распредеоение в каждой возрасной группе по расе примерно сблансировано,\n",
    "# с небольшим перевесом белой и восточно азиатской рас в средней ворасной группе\n",
    "fig, ax = plt.subplots(figsize=(12,6))\n",
    "plt.plot(df_distribution_age_race['Black'], color='black', label='Black')\n",
    "plt.plot(df_distribution_age_race['East Asian'], color='brown', label='East Asian')\n",
    "plt.plot(df_distribution_age_race['Indian'], color='orange', label='Indian')\n",
    "plt.plot(df_distribution_age_race['Latino_Hispanic'], color='blue', label='Latino_Hispanic')\n",
    "plt.plot(df_distribution_age_race['Middle Eastern'], color='green', label='Middle Eastern')\n",
    "plt.plot(df_distribution_age_race['Southeast Asian'], color='red', label='Southeast Asian')\n",
    "plt.plot(df_distribution_age_race['White'], color='yellow', label='White')\n",
    "plt.xticks(X_axis, df_distribution_age_race['age'])\n",
    "plt.xlabel(\"Age\")\n",
    "plt.ylabel(\"Samples\")\n",
    "plt.title(\"Age to Race distribution\")\n",
    "ax.legend(fontsize = 14)\n",
    "plt.show()"
   ]
  },
  {
   "cell_type": "code",
   "execution_count": 243,
   "id": "6562b07a",
   "metadata": {},
   "outputs": [],
   "source": [
    "# Распределение по возрасту и полу\n",
    "df_distribution_race_gender = df_sort_age.pivot_table(index='race',\n",
    "                       columns='gender',\n",
    "                       values='service_test',\n",
    "                       aggfunc='count',\n",
    "                       fill_value=0).reset_index()"
   ]
  },
  {
   "cell_type": "code",
   "execution_count": 244,
   "id": "4e168d28",
   "metadata": {},
   "outputs": [
    {
     "data": {
      "text/html": [
       "<div>\n",
       "<style scoped>\n",
       "    .dataframe tbody tr th:only-of-type {\n",
       "        vertical-align: middle;\n",
       "    }\n",
       "\n",
       "    .dataframe tbody tr th {\n",
       "        vertical-align: top;\n",
       "    }\n",
       "\n",
       "    .dataframe thead th {\n",
       "        text-align: right;\n",
       "    }\n",
       "</style>\n",
       "<table border=\"1\" class=\"dataframe\">\n",
       "  <thead>\n",
       "    <tr style=\"text-align: right;\">\n",
       "      <th>gender</th>\n",
       "      <th>race</th>\n",
       "      <th>Female</th>\n",
       "      <th>Male</th>\n",
       "    </tr>\n",
       "  </thead>\n",
       "  <tbody>\n",
       "    <tr>\n",
       "      <th>0</th>\n",
       "      <td>Black</td>\n",
       "      <td>6137</td>\n",
       "      <td>6096</td>\n",
       "    </tr>\n",
       "    <tr>\n",
       "      <th>1</th>\n",
       "      <td>East Asian</td>\n",
       "      <td>6141</td>\n",
       "      <td>6146</td>\n",
       "    </tr>\n",
       "    <tr>\n",
       "      <th>2</th>\n",
       "      <td>Indian</td>\n",
       "      <td>5909</td>\n",
       "      <td>6410</td>\n",
       "    </tr>\n",
       "    <tr>\n",
       "      <th>3</th>\n",
       "      <td>Latino_Hispanic</td>\n",
       "      <td>6715</td>\n",
       "      <td>6652</td>\n",
       "    </tr>\n",
       "    <tr>\n",
       "      <th>4</th>\n",
       "      <td>Middle Eastern</td>\n",
       "      <td>2847</td>\n",
       "      <td>6369</td>\n",
       "    </tr>\n",
       "    <tr>\n",
       "      <th>5</th>\n",
       "      <td>Southeast Asian</td>\n",
       "      <td>5183</td>\n",
       "      <td>5612</td>\n",
       "    </tr>\n",
       "    <tr>\n",
       "      <th>6</th>\n",
       "      <td>White</td>\n",
       "      <td>7826</td>\n",
       "      <td>8701</td>\n",
       "    </tr>\n",
       "  </tbody>\n",
       "</table>\n",
       "</div>"
      ],
      "text/plain": [
       "gender             race  Female  Male\n",
       "0                 Black    6137  6096\n",
       "1            East Asian    6141  6146\n",
       "2                Indian    5909  6410\n",
       "3       Latino_Hispanic    6715  6652\n",
       "4        Middle Eastern    2847  6369\n",
       "5       Southeast Asian    5183  5612\n",
       "6                 White    7826  8701"
      ]
     },
     "execution_count": 244,
     "metadata": {},
     "output_type": "execute_result"
    }
   ],
   "source": [
    "# Выводим распределение по возрасту и полу\n",
    "df_distribution_race_gender"
   ]
  },
  {
   "cell_type": "code",
   "execution_count": 245,
   "id": "744fde2c",
   "metadata": {},
   "outputs": [
    {
     "data": {
      "image/png": "[encoded data removed]",
      "text/plain": [
       "<Figure size 864x432 with 1 Axes>"
      ]
     },
     "metadata": {
      "needs_background": "light"
     },
     "output_type": "display_data"
    }
   ],
   "source": [
    "# Гисторамма распределения по возрасту и полу\n",
    "# На гимсторамме видно что распредеоение в каждой расовой группе по полу примерно сблансировано,\n",
    "# кроме ближневосточной, там значительно домерипует мужские выборки\n",
    "fig, ax = plt.subplots(figsize=(12,6))\n",
    "X_axis = np.arange(len(df_distribution_race_gender['race']))\n",
    "ax.bar(X_axis - 0.2, df_distribution_race_gender['Female'], 0.4, label = 'Female')\n",
    "ax.bar(X_axis + 0.2, df_distribution_race_gender['Male'], 0.4, label = 'Male')\n",
    "plt.xticks(X_axis, df_distribution_race_gender['race'])\n",
    "plt.xlabel(\"Race\")\n",
    "plt.ylabel(\"Samples\")\n",
    "plt.title(\"Race to Gender distribution\")\n",
    "ax.legend(fontsize = 14)\n",
    "plt.show()"
   ]
  },
  {
   "cell_type": "code",
   "execution_count": 246,
   "id": "99d83438",
   "metadata": {},
   "outputs": [],
   "source": [
    "# Распределение по полу\n",
    "df_gender_distribution = df['gender'].value_counts().reset_index()\n",
    "df_gender_distribution.columns = ['gender', 'count']"
   ]
  },
  {
   "cell_type": "code",
   "execution_count": 247,
   "id": "6c8ccb27",
   "metadata": {},
   "outputs": [
    {
     "data": {
      "text/html": [
       "<div>\n",
       "<style scoped>\n",
       "    .dataframe tbody tr th:only-of-type {\n",
       "        vertical-align: middle;\n",
       "    }\n",
       "\n",
       "    .dataframe tbody tr th {\n",
       "        vertical-align: top;\n",
       "    }\n",
       "\n",
       "    .dataframe thead th {\n",
       "        text-align: right;\n",
       "    }\n",
       "</style>\n",
       "<table border=\"1\" class=\"dataframe\">\n",
       "  <thead>\n",
       "    <tr style=\"text-align: right;\">\n",
       "      <th></th>\n",
       "      <th>gender</th>\n",
       "      <th>count</th>\n",
       "    </tr>\n",
       "  </thead>\n",
       "  <tbody>\n",
       "    <tr>\n",
       "      <th>0</th>\n",
       "      <td>Male</td>\n",
       "      <td>45986</td>\n",
       "    </tr>\n",
       "    <tr>\n",
       "      <th>1</th>\n",
       "      <td>Female</td>\n",
       "      <td>40758</td>\n",
       "    </tr>\n",
       "  </tbody>\n",
       "</table>\n",
       "</div>"
      ],
      "text/plain": [
       "   gender  count\n",
       "0    Male  45986\n",
       "1  Female  40758"
      ]
     },
     "execution_count": 247,
     "metadata": {},
     "output_type": "execute_result"
    }
   ],
   "source": [
    "# Выведим распределение по полу\n",
    "df_gender_distribution"
   ]
  },
  {
   "cell_type": "code",
   "execution_count": 248,
   "id": "0e5a1bb5",
   "metadata": {},
   "outputs": [
    {
     "data": {
      "image/png": "[encoded data removed]",
      "text/plain": [
       "<Figure size 864x432 with 1 Axes>"
      ]
     },
     "metadata": {
      "needs_background": "light"
     },
     "output_type": "display_data"
    }
   ],
   "source": [
    "# Гисторамма распределения по полу\n",
    "# На гимсторамме видно что распредеоение по полу сбалансировано, с небольшим перевесом мужских выборок\n",
    "fig, ax = plt.subplots(figsize=(12,6))\n",
    "\n",
    "ax.bar(df_gender_distribution['gender'], df_gender_distribution['count'])\n",
    "\n",
    "plt.xlabel(\"Gender\")\n",
    "plt.ylabel(\"Samples\")\n",
    "plt.title(\"Gender distribution\")\n",
    "\n",
    "plt.show()"
   ]
  },
  {
   "cell_type": "code",
   "execution_count": 249,
   "id": "c0a79fed",
   "metadata": {},
   "outputs": [],
   "source": [
    "# Распределение по расе\n",
    "df_race_distribution = df['race'].value_counts().reset_index()\n",
    "df_race_distribution.columns = ['race', 'count']"
   ]
  },
  {
   "cell_type": "code",
   "execution_count": 250,
   "id": "f6bb93b2",
   "metadata": {},
   "outputs": [
    {
     "data": {
      "text/html": [
       "<div>\n",
       "<style scoped>\n",
       "    .dataframe tbody tr th:only-of-type {\n",
       "        vertical-align: middle;\n",
       "    }\n",
       "\n",
       "    .dataframe tbody tr th {\n",
       "        vertical-align: top;\n",
       "    }\n",
       "\n",
       "    .dataframe thead th {\n",
       "        text-align: right;\n",
       "    }\n",
       "</style>\n",
       "<table border=\"1\" class=\"dataframe\">\n",
       "  <thead>\n",
       "    <tr style=\"text-align: right;\">\n",
       "      <th></th>\n",
       "      <th>race</th>\n",
       "      <th>count</th>\n",
       "    </tr>\n",
       "  </thead>\n",
       "  <tbody>\n",
       "    <tr>\n",
       "      <th>0</th>\n",
       "      <td>White</td>\n",
       "      <td>16527</td>\n",
       "    </tr>\n",
       "    <tr>\n",
       "      <th>1</th>\n",
       "      <td>Latino_Hispanic</td>\n",
       "      <td>13367</td>\n",
       "    </tr>\n",
       "    <tr>\n",
       "      <th>2</th>\n",
       "      <td>Indian</td>\n",
       "      <td>12319</td>\n",
       "    </tr>\n",
       "    <tr>\n",
       "      <th>3</th>\n",
       "      <td>East Asian</td>\n",
       "      <td>12287</td>\n",
       "    </tr>\n",
       "    <tr>\n",
       "      <th>4</th>\n",
       "      <td>Black</td>\n",
       "      <td>12233</td>\n",
       "    </tr>\n",
       "    <tr>\n",
       "      <th>5</th>\n",
       "      <td>Southeast Asian</td>\n",
       "      <td>10795</td>\n",
       "    </tr>\n",
       "    <tr>\n",
       "      <th>6</th>\n",
       "      <td>Middle Eastern</td>\n",
       "      <td>9216</td>\n",
       "    </tr>\n",
       "  </tbody>\n",
       "</table>\n",
       "</div>"
      ],
      "text/plain": [
       "              race  count\n",
       "0            White  16527\n",
       "1  Latino_Hispanic  13367\n",
       "2           Indian  12319\n",
       "3       East Asian  12287\n",
       "4            Black  12233\n",
       "5  Southeast Asian  10795\n",
       "6   Middle Eastern   9216"
      ]
     },
     "execution_count": 250,
     "metadata": {},
     "output_type": "execute_result"
    }
   ],
   "source": [
    "# Выведим распределение по расе\n",
    "df_race_distribution"
   ]
  },
  {
   "cell_type": "code",
   "execution_count": 251,
   "id": "8f425df1",
   "metadata": {},
   "outputs": [
    {
     "data": {
      "image/png": "[encoded data removed]",
      "text/plain": [
       "<Figure size 864x432 with 1 Axes>"
      ]
     },
     "metadata": {
      "needs_background": "light"
     },
     "output_type": "display_data"
    }
   ],
   "source": [
    "# Гисторамма распределения по расе\n",
    "# На гимсторамме видно что распредеоение по расе сбалансировано, с небольшим перевесом в белой группе\n",
    "fig, ax = plt.subplots(figsize=(12,6))\n",
    "\n",
    "ax.bar(df_race_distribution['race'], df_race_distribution['count'])\n",
    "\n",
    "plt.xlabel(\"Race\")\n",
    "plt.ylabel(\"Samples\")\n",
    "plt.title(\"Race distribution\")\n",
    "\n",
    "plt.show()"
   ]
  },
  {
   "cell_type": "code",
   "execution_count": 252,
   "id": "95b01540",
   "metadata": {},
   "outputs": [],
   "source": [
    "# Вывод: набор данных хорошо сбалансирован по 7 расовым групам, что смячает расовую предвзятость. \n",
    "# После обучения на таком наборе данных модель будет показывать лучше точнось на новых данных."
   ]
  }
 ],
 "metadata": {
  "kernelspec": {
   "display_name": "Python 3",
   "language": "python",
   "name": "python3"
  },
  "language_info": {
   "codemirror_mode": {
    "name": "ipython",
    "version": 3
   },
   "file_extension": ".py",
   "mimetype": "text/x-python",
   "name": "python",
   "nbconvert_exporter": "python",
   "pygments_lexer": "ipython3",
   "version": "3.8.2"
  }
 },
 "nbformat": 4,
 "nbformat_minor": 5
}
